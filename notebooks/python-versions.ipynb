{
 "cells": [
  {
   "cell_type": "code",
   "execution_count": 1,
   "id": "38fe7e4a-6fd9-4be5-a5ec-faf3622a91e3",
   "metadata": {},
   "outputs": [],
   "source": [
    "import sys\n",
    "import numpy as np\n",
    "import sklearn as sk\n",
    "import matplotlib as mp\n",
    "import scipy as sp\n",
    "import pandas as pd"
   ]
  },
  {
   "cell_type": "code",
   "execution_count": 2,
   "id": "17d40597-390d-42f9-9103-fc918c860a09",
   "metadata": {},
   "outputs": [
    {
     "name": "stdout",
     "output_type": "stream",
     "text": [
      "Python version    :  3.12.4 | packaged by Anaconda, Inc. | (main, Jun 18 2024, 15:12:24) [GCC 11.2.0]\n",
      "numpy version     :  1.26.4\n",
      "scikit-learn  vers:  1.5.1\n",
      "matplotlib version:  3.8.4\n",
      "scipy version     :  1.13.1\n",
      "pandas version    :  2.2.2\n"
     ]
    }
   ],
   "source": [
    "print('Python version    : ', sys.version)\n",
    "print('numpy version     : ', np.__version__)\n",
    "print('scikit-learn  vers: ', sk.__version__)\n",
    "print('matplotlib version: ', mp.__version__)\n",
    "print('scipy version     : ', sp.__version__)\n",
    "print('pandas version    : ', pd.__version__)"
   ]
  },
  {
   "cell_type": "code",
   "execution_count": null,
   "id": "10f5a5c3-3f59-4ee9-a0ae-def34e214fd2",
   "metadata": {},
   "outputs": [],
   "source": []
  }
 ],
 "metadata": {
  "kernelspec": {
   "display_name": "Python 3 (ipykernel)",
   "language": "python",
   "name": "python3"
  },
  "language_info": {
   "codemirror_mode": {
    "name": "ipython",
    "version": 3
   },
   "file_extension": ".py",
   "mimetype": "text/x-python",
   "name": "python",
   "nbconvert_exporter": "python",
   "pygments_lexer": "ipython3",
   "version": "3.12.4"
  }
 },
 "nbformat": 4,
 "nbformat_minor": 5
}
