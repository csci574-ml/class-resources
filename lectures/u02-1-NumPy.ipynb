{
 "cells": [
  {
   "cell_type": "markdown",
   "metadata": {},
   "source": [
    "# NumPy - Multidimensional data arrays\n",
    "\n",
    "The NumPy library is used for all numerical data analytic computations in Python.\n",
    "It is a package that provides high-performance vector, matrix and higher-dimensional\n",
    "data structures for Python. It is implemented in C and Fortran, so when calculations\n",
    "are vectorized (formulated with vectors and matrices), performance is very good. \n",
    "\n",
    "To use NumPy we need to start by importing the NumPy library.  You can\n",
    "import the module namespace as usual\n",
    "\n",
    "```python\n",
    "import numpy\n",
    "```\n",
    "\n",
    "though by convention, scripts and notebooks that perform a lot of NumPy\n",
    "computations will often import NumPy with an alias as follows"
   ]
  },
  {
   "cell_type": "code",
   "execution_count": 1,
   "metadata": {},
   "outputs": [],
   "source": [
    "import numpy as np"
   ]
  },
  {
   "cell_type": "markdown",
   "metadata": {},
   "source": [
    "We will follow this convention and import numpy using the alias `np` for use\n",
    "in all of our notebooks for this class.\n",
    "\n",
    "This notebook lecture is using materials from past versions of this course\n",
    "(see the archive).  We have also based many of our new examples on\n",
    "the\n",
    "[Quickstart tutorial](https://numpy.org/doc/stable/user/quickstart.html)\n",
    "provided by the official NumPy library maintainers website."
   ]
  },
  {
   "cell_type": "markdown",
   "metadata": {},
   "source": [
    "# The Basics\n",
    "\n",
    "NumPy's main object is the homogeneous multidimensional array.  It is a table\n",
    "of elements (usually numbers), all of the same type, indexed by a tuple\n",
    "of non-negative integers. \n",
    "\n",
    "Because the main NumPy array is a homogeneous collection of elements, it\n",
    "is more similar to plain arrays you may be familiar with from C or Java, than\n",
    "the `List` type from the main Python language.  Homogeneous means\n",
    "that all of the items in the array must be of the same type.  So typically\n",
    "we will work with a homogeneous array of all floats or all int types for\n",
    "various machine learning tasks.\n",
    "\n",
    " In NumPy dimensions are called **axes**. For example the coordinates of a point\n",
    " in 3D space `[1, 2, 1]` has one axis.  That axis has 3 elements in it, so we\n",
    " say it has a length of 3.  A table of values like this:\n",
    " \n",
    " ```python\n",
    " [[1., 2., 1.],\n",
    "  [0., 1., 3.]]\n",
    "```\n",
    "\n",
    "is said to have 2 axes.  The first axis (the rows, and referred to numerically\n",
    "as axis 0) has a length of 2 (e.g. there are 2 rows).  The second axis\n",
    "(the columns, numerically referred to as axis 1) has a length of 3\n",
    "(there are 3 columns).\n",
    "\n",
    "The vast majority of the data we use in this class will be arranged in a table\n",
    "like this with 2 axis, where each row holds a sample of data, and each column\n",
    "represents an attribute of the sampled data.  For example, for an experiment\n",
    "each row might hold the information for a participant or subject of the experiment,\n",
    "while the columns might be attributes like the subject's age, weight, height,\n",
    "and results like how they responed to the experiment.\n",
    "\n",
    "Lots look at an example array in NumPy and some of its attributes."
   ]
  },
  {
   "cell_type": "code",
   "execution_count": 2,
   "metadata": {},
   "outputs": [
    {
     "data": {
      "text/plain": [
       "array([[ 0,  1,  2,  3,  4],\n",
       "       [ 5,  6,  7,  8,  9],\n",
       "       [10, 11, 12, 13, 14]])"
      ]
     },
     "execution_count": 2,
     "metadata": {},
     "output_type": "execute_result"
    }
   ],
   "source": [
    "# create an array with elements ranging from 0 to 14, and reshape into\n",
    "# an array with 2 axis, with 3 rows in the axis 0 and 5 columns in the axis 1\n",
    "a = np.arange(15).reshape(3,5)\n",
    "a"
   ]
  },
  {
   "cell_type": "code",
   "execution_count": 3,
   "metadata": {},
   "outputs": [
    {
     "data": {
      "text/plain": [
       "2"
      ]
     },
     "execution_count": 3,
     "metadata": {},
     "output_type": "execute_result"
    }
   ],
   "source": [
    "a.ndim"
   ]
  },
  {
   "cell_type": "code",
   "execution_count": 4,
   "metadata": {},
   "outputs": [
    {
     "data": {
      "text/plain": [
       "(3, 5)"
      ]
     },
     "execution_count": 4,
     "metadata": {},
     "output_type": "execute_result"
    }
   ],
   "source": [
    "a.shape"
   ]
  },
  {
   "cell_type": "code",
   "execution_count": 5,
   "metadata": {},
   "outputs": [
    {
     "data": {
      "text/plain": [
       "15"
      ]
     },
     "execution_count": 5,
     "metadata": {},
     "output_type": "execute_result"
    }
   ],
   "source": [
    "a.size"
   ]
  },
  {
   "cell_type": "code",
   "execution_count": 6,
   "metadata": {},
   "outputs": [
    {
     "data": {
      "text/plain": [
       "dtype('int64')"
      ]
     },
     "execution_count": 6,
     "metadata": {},
     "output_type": "execute_result"
    }
   ],
   "source": [
    "a.dtype"
   ]
  },
  {
   "cell_type": "code",
   "execution_count": 7,
   "metadata": {},
   "outputs": [
    {
     "data": {
      "text/plain": [
       "8"
      ]
     },
     "execution_count": 7,
     "metadata": {},
     "output_type": "execute_result"
    }
   ],
   "source": [
    "a.itemsize"
   ]
  },
  {
   "cell_type": "code",
   "execution_count": 8,
   "metadata": {},
   "outputs": [
    {
     "data": {
      "text/plain": [
       "<memory at 0x754cb9bc3920>"
      ]
     },
     "execution_count": 8,
     "metadata": {},
     "output_type": "execute_result"
    }
   ],
   "source": [
    "a.data"
   ]
  },
  {
   "cell_type": "code",
   "execution_count": 9,
   "metadata": {},
   "outputs": [
    {
     "data": {
      "text/plain": [
       "numpy.ndarray"
      ]
     },
     "execution_count": 9,
     "metadata": {},
     "output_type": "execute_result"
    }
   ],
   "source": [
    "type(a)"
   ]
  },
  {
   "cell_type": "markdown",
   "metadata": {},
   "source": [
    "NumPy's array class is called `ndarray` as the last cell shows.  An `ndarray`\n",
    "is a general n-dimensional array.\n",
    "\n",
    "In the previous example we demonstrated many of the basic attributes of\n",
    "a NumPy `ndarray`\n",
    "\n",
    "- **ndarray.ndim**: The number of axes (or dimensions) of the array.  Our array\n",
    "  has 2 dimensions, axis 0 (rows) and axis 1 (columns)\n",
    "- **ndarray.shape**: The length of each dimension of the array.  Since we have 3\n",
    "  rows and 5 columns, axis 0 has a length of 3 and axis 1 has a length of 5.\n",
    "- **ndarray.size**: The total number of elements of the array, has to be equal to\n",
    "  the product of the shape (e.g. $3 \\times 5 = 15$ here).\n",
    "- **ndarray.dtype**: The type of elements in the array.  `ndarray`'s are **homogeneous**\n",
    "  which means all elements are of the same type, the type describe here.  You\n",
    "  will often see types like this `int64`, where `int` is the basic type and\n",
    "  the number 64 indicates the number of bits being used for the data type\n",
    "  representation.\n",
    "- **ndarray.itemsize**: The size in bytes of each element of the array.  Since\n",
    "  a byte uses 8 bits, a size of 8 bytes here equals 64 bits of memory for each of\n",
    "  the 15 elements in the array.\n",
    "- **ndarray.data**: The actually pointer to the buffer in memory holding the values\n",
    "  of this array.  We don't normally access this directly.\n",
    "  \n",
    "Another quick example of an array, compare this one to the first one."
   ]
  },
  {
   "cell_type": "code",
   "execution_count": 10,
   "metadata": {},
   "outputs": [],
   "source": [
    "# set the display options so that our arrays are displayed as decimal notation\n",
    "# rather than floating point notation in the rest of the notebook\n",
    "np.set_printoptions(suppress=True)"
   ]
  },
  {
   "cell_type": "code",
   "execution_count": 11,
   "metadata": {},
   "outputs": [
    {
     "data": {
      "text/plain": [
       "array([[[-4.98564701, -3.34551156, -1.16448052],\n",
       "        [ 3.81289913,  4.72483413,  1.6996407 ],\n",
       "        [ 2.02973076, -4.08075146, -2.56060736],\n",
       "        [-3.82693492,  1.34124796,  1.64301638]],\n",
       "\n",
       "       [[-4.84742882,  4.59022489,  2.31217642],\n",
       "        [-4.65170369,  2.63211381, -3.85520843],\n",
       "        [ 3.93230898, -0.09810023, -0.02945327],\n",
       "        [-2.4401226 , -1.32070933,  4.28799497]],\n",
       "\n",
       "       [[ 1.98003042, -1.21779992,  2.18769724],\n",
       "        [ 2.70236779,  2.95003793,  4.45619138],\n",
       "        [ 3.33724775,  0.49754889,  0.00733448],\n",
       "        [ 0.54618163,  0.54139562, -1.84449096]],\n",
       "\n",
       "       [[ 0.373479  ,  4.75131088, -2.73410805],\n",
       "        [ 1.56642756,  0.08227508, -2.63639992],\n",
       "        [-4.18626633,  4.6878951 , -4.39484837],\n",
       "        [ 1.19427397,  2.81007894,  2.26057134]],\n",
       "\n",
       "       [[ 2.54632296, -2.54430674,  4.78501775],\n",
       "        [ 1.9820033 ,  1.79205384, -4.41306199],\n",
       "        [ 2.94399571, -2.05378703,  0.39011667],\n",
       "        [-4.0721692 ,  1.31992918,  3.27910251]]])"
      ]
     },
     "execution_count": 11,
     "metadata": {},
     "output_type": "execute_result"
    }
   ],
   "source": [
    "# an array of random floating point numbers that range from -5 to 5\n",
    "# the 3rd parameter, a tuple, gives the shape of the array to randomly create\n",
    "\n",
    "# I think of this as axis 0 is the number of regular 2-d tables, so here we have\n",
    "# 5 tables, where each table has 4 rows and 3 columns\n",
    "b = np.random.uniform(-5.0, 5.0, (5, 4, 3))\n",
    "b"
   ]
  },
  {
   "cell_type": "code",
   "execution_count": 12,
   "metadata": {},
   "outputs": [
    {
     "data": {
      "text/plain": [
       "3"
      ]
     },
     "execution_count": 12,
     "metadata": {},
     "output_type": "execute_result"
    }
   ],
   "source": [
    "b.ndim"
   ]
  },
  {
   "cell_type": "code",
   "execution_count": 13,
   "metadata": {},
   "outputs": [
    {
     "data": {
      "text/plain": [
       "(5, 4, 3)"
      ]
     },
     "execution_count": 13,
     "metadata": {},
     "output_type": "execute_result"
    }
   ],
   "source": [
    "b.shape"
   ]
  },
  {
   "cell_type": "code",
   "execution_count": 14,
   "metadata": {},
   "outputs": [
    {
     "data": {
      "text/plain": [
       "60"
      ]
     },
     "execution_count": 14,
     "metadata": {},
     "output_type": "execute_result"
    }
   ],
   "source": [
    "b.size"
   ]
  },
  {
   "cell_type": "code",
   "execution_count": 15,
   "metadata": {},
   "outputs": [
    {
     "data": {
      "text/plain": [
       "dtype('float64')"
      ]
     },
     "execution_count": 15,
     "metadata": {},
     "output_type": "execute_result"
    }
   ],
   "source": [
    "b.dtype"
   ]
  },
  {
   "cell_type": "code",
   "execution_count": 16,
   "metadata": {},
   "outputs": [
    {
     "data": {
      "text/plain": [
       "8"
      ]
     },
     "execution_count": 16,
     "metadata": {},
     "output_type": "execute_result"
    }
   ],
   "source": [
    "b.itemsize"
   ]
  },
  {
   "cell_type": "markdown",
   "metadata": {},
   "source": [
    "# Array creation\n",
    "\n",
    "There are a number of ways to create a NumPy `ndarray`.  We saw two\n",
    "array generation functions in the previous example, one creating\n",
    "an array with a range of values, and another using the NumPy `random`\n",
    "submodule to generate arrays of random values.\n",
    "\n",
    "One basic way to create an array is by initializing it form a regular\n",
    "Python list or tuple."
   ]
  },
  {
   "cell_type": "code",
   "execution_count": 17,
   "metadata": {},
   "outputs": [
    {
     "name": "stdout",
     "output_type": "stream",
     "text": [
      "[2 3 4]\n",
      "int64\n",
      "(3,)\n"
     ]
    }
   ],
   "source": [
    "a = np.array([2, 3, 4])\n",
    "print(a)\n",
    "print(a.dtype)\n",
    "print(a.shape)"
   ]
  },
  {
   "cell_type": "code",
   "execution_count": 18,
   "metadata": {},
   "outputs": [
    {
     "name": "stdout",
     "output_type": "stream",
     "text": [
      "[[1.2 3.5 5.1]\n",
      " [3.8 4.6 2.7]]\n",
      "float64\n",
      "(2, 3)\n"
     ]
    }
   ],
   "source": [
    "b = np.array([[1.2, 3.5, 5.1], \n",
    "              [3.8, 4.6, 2.7]])\n",
    "print(b)\n",
    "print(b.dtype)\n",
    "print(b.shape)"
   ]
  },
  {
   "cell_type": "code",
   "execution_count": 19,
   "metadata": {},
   "outputs": [
    {
     "name": "stdout",
     "output_type": "stream",
     "text": [
      "['gouda' '42' 'False' '(3-2j)']\n",
      "<U64\n",
      "(4,)\n"
     ]
    }
   ],
   "source": [
    "c = np.array(['gouda', 42, False, 3-2j])\n",
    "print(c)\n",
    "print(c.dtype)\n",
    "print(c.shape)"
   ]
  },
  {
   "cell_type": "markdown",
   "metadata": {},
   "source": [
    "Notice that when you give a nonhomogeneous list of values, NumPy will convert to\n",
    "the most general type, which is this case is a string representation of each element\n",
    "with a maximum length of 6 characters for each string.\n",
    "\n",
    "We saw an example of array `b` where a sequence of lists is transformed into\n",
    "an array with 2 axis.  This can be done for 3 or even higher numbers of axis, though\n",
    "of course it gets complicated to construct such a list by hand in python.\n",
    "\n",
    "The type of the array can be explicitly specified at creation time."
   ]
  },
  {
   "cell_type": "code",
   "execution_count": 20,
   "metadata": {},
   "outputs": [
    {
     "name": "stdout",
     "output_type": "stream",
     "text": [
      "[[1.+0.j 2.+0.j]\n",
      " [3.+0.j 4.+0.j]]\n",
      "complex128\n",
      "(2, 2)\n"
     ]
    }
   ],
   "source": [
    "d = np.array( [[1, 2], [3, 4]], dtype=complex)\n",
    "print(d)\n",
    "print(d.dtype)\n",
    "print(d.shape)"
   ]
  },
  {
   "cell_type": "markdown",
   "metadata": {},
   "source": [
    "## Array generation functions\n",
    "\n",
    "We saw some array generating functions above.  The `arange()` function\n",
    "is analogous to the `range()` built-in funciton, it creates arrays with\n",
    "1 axis with a range of values."
   ]
  },
  {
   "cell_type": "code",
   "execution_count": 21,
   "metadata": {},
   "outputs": [
    {
     "data": {
      "text/plain": [
       "array([ 0,  1,  2,  3,  4,  5,  6,  7,  8,  9, 10, 11])"
      ]
     },
     "execution_count": 21,
     "metadata": {},
     "output_type": "execute_result"
    }
   ],
   "source": [
    "# array of values from 0 up to by not including 12\n",
    "np.arange(12)"
   ]
  },
  {
   "cell_type": "code",
   "execution_count": 22,
   "metadata": {},
   "outputs": [
    {
     "data": {
      "text/plain": [
       "array([10, 12, 14, 16, 18, 20, 22, 24, 26, 28, 30, 32, 34, 36, 38, 40, 42,\n",
       "       44, 46, 48, 50])"
      ]
     },
     "execution_count": 22,
     "metadata": {},
     "output_type": "execute_result"
    }
   ],
   "source": [
    "# range of event values from 10 to 50 \n",
    "np.arange(10, 51, 2)"
   ]
  },
  {
   "cell_type": "code",
   "execution_count": 23,
   "metadata": {},
   "outputs": [
    {
     "data": {
      "text/plain": [
       "array([100,  95,  90,  85,  80,  75,  70,  65,  60,  55,  50,  45,  40,\n",
       "        35,  30,  25,  20,  15,  10,   5,   0])"
      ]
     },
     "execution_count": 23,
     "metadata": {},
     "output_type": "execute_result"
    }
   ],
   "source": [
    "# stepping backwards\n",
    "np.arange(100, -1, -5)"
   ]
  },
  {
   "cell_type": "markdown",
   "metadata": {},
   "source": [
    "Another function for generating sequences that might be more useful in this\n",
    "class is `linspace()`.  This function can be used to generate an array of\n",
    "a particular size with points linearly spaces over some range.  For example"
   ]
  },
  {
   "cell_type": "code",
   "execution_count": 24,
   "metadata": {},
   "outputs": [
    {
     "data": {
      "text/plain": [
       "array([0.        , 0.11111111, 0.22222222, 0.33333333, 0.44444444,\n",
       "       0.55555556, 0.66666667, 0.77777778, 0.88888889, 1.        ])"
      ]
     },
     "execution_count": 24,
     "metadata": {},
     "output_type": "execute_result"
    }
   ],
   "source": [
    "# 10 point linearly spaces from 0.0 to 1.0\n",
    "# notice that this funciton is inclusive of the endpoints, the first and last points\n",
    "# will begin and end at the stated begin and end of the range\n",
    "np.linspace(0.0, 1.0, 10)"
   ]
  },
  {
   "cell_type": "code",
   "execution_count": 25,
   "metadata": {},
   "outputs": [
    {
     "data": {
      "text/plain": [
       "array([-10.        ,  -9.7979798 ,  -9.5959596 ,  -9.39393939,\n",
       "        -9.19191919,  -8.98989899,  -8.78787879,  -8.58585859,\n",
       "        -8.38383838,  -8.18181818,  -7.97979798,  -7.77777778,\n",
       "        -7.57575758,  -7.37373737,  -7.17171717,  -6.96969697,\n",
       "        -6.76767677,  -6.56565657,  -6.36363636,  -6.16161616,\n",
       "        -5.95959596,  -5.75757576,  -5.55555556,  -5.35353535,\n",
       "        -5.15151515,  -4.94949495,  -4.74747475,  -4.54545455,\n",
       "        -4.34343434,  -4.14141414,  -3.93939394,  -3.73737374,\n",
       "        -3.53535354,  -3.33333333,  -3.13131313,  -2.92929293,\n",
       "        -2.72727273,  -2.52525253,  -2.32323232,  -2.12121212,\n",
       "        -1.91919192,  -1.71717172,  -1.51515152,  -1.31313131,\n",
       "        -1.11111111,  -0.90909091,  -0.70707071,  -0.50505051,\n",
       "        -0.3030303 ,  -0.1010101 ,   0.1010101 ,   0.3030303 ,\n",
       "         0.50505051,   0.70707071,   0.90909091,   1.11111111,\n",
       "         1.31313131,   1.51515152,   1.71717172,   1.91919192,\n",
       "         2.12121212,   2.32323232,   2.52525253,   2.72727273,\n",
       "         2.92929293,   3.13131313,   3.33333333,   3.53535354,\n",
       "         3.73737374,   3.93939394,   4.14141414,   4.34343434,\n",
       "         4.54545455,   4.74747475,   4.94949495,   5.15151515,\n",
       "         5.35353535,   5.55555556,   5.75757576,   5.95959596,\n",
       "         6.16161616,   6.36363636,   6.56565657,   6.76767677,\n",
       "         6.96969697,   7.17171717,   7.37373737,   7.57575758,\n",
       "         7.77777778,   7.97979798,   8.18181818,   8.38383838,\n",
       "         8.58585859,   8.78787879,   8.98989899,   9.19191919,\n",
       "         9.39393939,   9.5959596 ,   9.7979798 ,  10.        ])"
      ]
     },
     "execution_count": 25,
     "metadata": {},
     "output_type": "execute_result"
    }
   ],
   "source": [
    "# 100 points linearly spaces from -10 to 10\n",
    "np.linspace(-10.0, 10.0, 100)"
   ]
  },
  {
   "cell_type": "markdown",
   "metadata": {},
   "source": [
    "The  `np.random.uniform()` function we used before shows a common pattern for many other\n",
    "array generating functions.  Functions in NumPy's random library can be used\n",
    "to generate arrays of random numbers with different distributions (uniform,\n",
    "normal, gaussian distribution, etc).  The 3rd parameter is a tuple indicating\n",
    "the shape of the array to be generated.\n",
    "\n",
    "Often we know what shape of array we need and the type of the values that will\n",
    "be in it, but we will generate the data later.  We can use functions\n",
    "like `zeros()` or `empty()` to create empty arrays of a particular shape and type."
   ]
  },
  {
   "cell_type": "code",
   "execution_count": 26,
   "metadata": {},
   "outputs": [
    {
     "name": "stdout",
     "output_type": "stream",
     "text": [
      "[[0. 0. 0. 0.]\n",
      " [0. 0. 0. 0.]\n",
      " [0. 0. 0. 0.]]\n",
      "(3, 4)\n",
      "float64\n"
     ]
    }
   ],
   "source": [
    "# array of zeros with 3 rows and 4 columns\n",
    "a = np.zeros( (3, 4) )\n",
    "print(a)\n",
    "print(a.shape)\n",
    "print(a.dtype)"
   ]
  },
  {
   "cell_type": "markdown",
   "metadata": {},
   "source": [
    "Notice that if you don't specify a datatype, many array generation functions default\n",
    "to generating arrays of floating point numbers (with the standard number of bits \n",
    "for a float type used).\n",
    "\n",
    "`zeros()` is useful if you need to ensure all values are initially 0, but if\n",
    "you know you will be filling in all values, you can just get an empty array.\n",
    "This sometimes has all 0's anyway, but the memory is not initialized so garbage\n",
    "values can also be in the array you get back using `empty()`."
   ]
  },
  {
   "cell_type": "code",
   "execution_count": 27,
   "metadata": {},
   "outputs": [
    {
     "name": "stdout",
     "output_type": "stream",
     "text": [
      "[[0. 0. 0. 0. 0. 0. 0. 0.]\n",
      " [0. 0. 0. 0. 0. 0. 0. 0.]\n",
      " [0. 0. 0. 0. 0. 0. 0. 0.]\n",
      " [0. 0. 0. 0. 0. 0. 0. 0.]\n",
      " [0. 0. 0. 0. 0. 0. 0. 0.]\n",
      " [0. 0. 0. 0. 0. 0. 0. 0.]]\n",
      "(6, 8)\n",
      "float64\n"
     ]
    }
   ],
   "source": [
    "# empty array of  3 rows and 4 columns\n",
    "a = np.empty( (6, 8) )\n",
    "print(a)\n",
    "print(a.shape)\n",
    "print(a.dtype)"
   ]
  },
  {
   "cell_type": "markdown",
   "metadata": {},
   "source": [
    "There are many other\n",
    "[array generation functions](https://numpy.org/doc/stable/reference/routines.array-creation.html) \n",
    "that can be used.  "
   ]
  },
  {
   "cell_type": "markdown",
   "metadata": {},
   "source": [
    "# Basic operations (Vectorized computations)\n",
    "\n",
    "NumPy arrays support a style of programming known as vectorized computations,\n",
    "first popularized in the Matlab programming enviornment (I believe).\n",
    "\n",
    "What this means is that, instead of using loops to access and perform\n",
    "operations on the elements of an array, we can treat an array as a single\n",
    "value/variable and apply an operation to all elements with a single statement.\n",
    "\n",
    "An example should make this clearer."
   ]
  },
  {
   "cell_type": "markdown",
   "metadata": {},
   "source": [
    "## Elementwise arithemetic\n",
    "\n",
    "For example, you can easily apply simple operations to all elemnts of an array,\n",
    "like addition or multiplication, by performing a scalar operation with an\n",
    "`ndarray` object.  A **scalar** value is simply a fancy way of saying a\n",
    "single value, e.g. a regular Python variable holding 1 value, instead of an\n",
    "array that holds many values.\n",
    "\n",
    "So any array we have we can perform elementwise scalar operations on it."
   ]
  },
  {
   "cell_type": "code",
   "execution_count": 28,
   "metadata": {},
   "outputs": [
    {
     "data": {
      "text/plain": [
       "array([[ 8,  8,  3,  3, 10,  2, 10,  7, 10,  4],\n",
       "       [ 5,  9,  9,  9,  8,  9,  5,  9,  2,  2],\n",
       "       [ 2,  5,  7,  9,  2,  2,  7, 10,  5,  3],\n",
       "       [10,  8, 10,  3,  4,  9, 10,  8,  1,  3],\n",
       "       [ 2, 10,  2,  4,  4, 10,  3,  2,  4,  2],\n",
       "       [ 5,  8,  5, 10,  5,  5,  1,  7,  9,  8],\n",
       "       [ 9,  8,  6,  8,  5,  5,  6, 10,  7, 10],\n",
       "       [ 9,  5,  4,  4,  4,  9,  3, 10,  1,  1],\n",
       "       [ 4,  1,  4,  1,  7,  9,  2,  4,  4,  3],\n",
       "       [ 8,  2,  8,  2,  5,  6,  1,  7,  3,  7]])"
      ]
     },
     "execution_count": 28,
     "metadata": {},
     "output_type": "execute_result"
    }
   ],
   "source": [
    "# 100 random integers in range from 1 to 10\n",
    "a = np.random.randint(1,11,(10,10))\n",
    "a"
   ]
  },
  {
   "cell_type": "code",
   "execution_count": 29,
   "metadata": {},
   "outputs": [
    {
     "data": {
      "text/plain": [
       "array([[-2, -2, -7, -7,  0, -8,  0, -3,  0, -6],\n",
       "       [-5, -1, -1, -1, -2, -1, -5, -1, -8, -8],\n",
       "       [-8, -5, -3, -1, -8, -8, -3,  0, -5, -7],\n",
       "       [ 0, -2,  0, -7, -6, -1,  0, -2, -9, -7],\n",
       "       [-8,  0, -8, -6, -6,  0, -7, -8, -6, -8],\n",
       "       [-5, -2, -5,  0, -5, -5, -9, -3, -1, -2],\n",
       "       [-1, -2, -4, -2, -5, -5, -4,  0, -3,  0],\n",
       "       [-1, -5, -6, -6, -6, -1, -7,  0, -9, -9],\n",
       "       [-6, -9, -6, -9, -3, -1, -8, -6, -6, -7],\n",
       "       [-2, -8, -2, -8, -5, -4, -9, -3, -7, -3]])"
      ]
     },
     "execution_count": 29,
     "metadata": {},
     "output_type": "execute_result"
    }
   ],
   "source": [
    "# subtract 10 from each element of array using vectorized operation\n",
    "a - 10"
   ]
  },
  {
   "cell_type": "code",
   "execution_count": 30,
   "metadata": {},
   "outputs": [
    {
     "data": {
      "text/plain": [
       "array([[ 80,  80,  30,  30, 100,  20, 100,  70, 100,  40],\n",
       "       [ 50,  90,  90,  90,  80,  90,  50,  90,  20,  20],\n",
       "       [ 20,  50,  70,  90,  20,  20,  70, 100,  50,  30],\n",
       "       [100,  80, 100,  30,  40,  90, 100,  80,  10,  30],\n",
       "       [ 20, 100,  20,  40,  40, 100,  30,  20,  40,  20],\n",
       "       [ 50,  80,  50, 100,  50,  50,  10,  70,  90,  80],\n",
       "       [ 90,  80,  60,  80,  50,  50,  60, 100,  70, 100],\n",
       "       [ 90,  50,  40,  40,  40,  90,  30, 100,  10,  10],\n",
       "       [ 40,  10,  40,  10,  70,  90,  20,  40,  40,  30],\n",
       "       [ 80,  20,  80,  20,  50,  60,  10,  70,  30,  70]])"
      ]
     },
     "execution_count": 30,
     "metadata": {},
     "output_type": "execute_result"
    }
   ],
   "source": [
    "# multiple each array element by 10\n",
    "10 * a"
   ]
  },
  {
   "cell_type": "code",
   "execution_count": 31,
   "metadata": {},
   "outputs": [
    {
     "data": {
      "text/plain": [
       "array([[0.8, 0.8, 0.3, 0.3, 1. , 0.2, 1. , 0.7, 1. , 0.4],\n",
       "       [0.5, 0.9, 0.9, 0.9, 0.8, 0.9, 0.5, 0.9, 0.2, 0.2],\n",
       "       [0.2, 0.5, 0.7, 0.9, 0.2, 0.2, 0.7, 1. , 0.5, 0.3],\n",
       "       [1. , 0.8, 1. , 0.3, 0.4, 0.9, 1. , 0.8, 0.1, 0.3],\n",
       "       [0.2, 1. , 0.2, 0.4, 0.4, 1. , 0.3, 0.2, 0.4, 0.2],\n",
       "       [0.5, 0.8, 0.5, 1. , 0.5, 0.5, 0.1, 0.7, 0.9, 0.8],\n",
       "       [0.9, 0.8, 0.6, 0.8, 0.5, 0.5, 0.6, 1. , 0.7, 1. ],\n",
       "       [0.9, 0.5, 0.4, 0.4, 0.4, 0.9, 0.3, 1. , 0.1, 0.1],\n",
       "       [0.4, 0.1, 0.4, 0.1, 0.7, 0.9, 0.2, 0.4, 0.4, 0.3],\n",
       "       [0.8, 0.2, 0.8, 0.2, 0.5, 0.6, 0.1, 0.7, 0.3, 0.7]])"
      ]
     },
     "execution_count": 31,
     "metadata": {},
     "output_type": "execute_result"
    }
   ],
   "source": [
    "# divide all elemsnt by 10, result should be floats in range 0.1 to 1.0\n",
    "a / 10"
   ]
  },
  {
   "cell_type": "markdown",
   "metadata": {},
   "source": [
    "## Vectorized functions (Universal Functions)\n",
    "\n",
    "Many functions have been provided in NumPy to perform vectorized operations\n",
    "on NumPy arrays.  These are also called Universal functions (ufunc).\n",
    "\n",
    "For example, all of the math function in the standard `math` library are\n",
    "scalar functions, the expect a single value.  NumPy provides vectorized\n",
    "versions of all of the math functions that performs the elementwise\n",
    "operation on all of the values.\n",
    "[NumPy mathematical functions reference](https://numpy.org/doc/stable/reference/routines.math.html)\n",
    "These are all in the top NumPy namespace.  So for example\n"
   ]
  },
  {
   "cell_type": "code",
   "execution_count": 32,
   "metadata": {},
   "outputs": [
    {
     "data": {
      "text/plain": [
       "array([[ 0.69846573, -2.24231523,  1.56777684, -2.54560788, -2.68810978,\n",
       "         1.91070867, -2.85999394, -2.68626496, -1.54395447,  3.06928282],\n",
       "       [ 3.08503147,  0.4433031 , -2.63315106, -1.15293896, -2.46487732,\n",
       "        -0.89281253, -2.47930362, -1.22423172, -0.4059959 , -2.9839668 ],\n",
       "       [ 0.11786128,  2.01515458,  2.23669726,  2.96135008, -1.05949755,\n",
       "         0.19246148,  0.46676302, -1.43998318,  2.59769325, -1.83860054],\n",
       "       [ 0.61089019, -2.14931827,  2.16095042,  2.84023673, -2.5161633 ,\n",
       "        -1.41868941,  2.42754145, -1.18029572, -2.4445545 ,  0.19936697],\n",
       "       [-0.51243516, -1.13393797, -2.34894463,  0.53366024,  1.96471704,\n",
       "         2.1232598 ,  0.65915042, -2.65384575, -1.99062173,  1.34853268],\n",
       "       [-0.44088442, -0.94771099,  2.61905608, -2.28153744, -1.48398887,\n",
       "        -0.89533798,  2.72187631,  0.89159137,  2.48076986,  1.09568046],\n",
       "       [-1.44324732,  2.26790003, -0.13434394, -1.75849301,  0.18747879,\n",
       "        -0.25671299,  1.62112384,  2.55097371,  0.16591645, -3.03039721],\n",
       "       [ 2.5563216 ,  2.62204853, -1.46578019,  2.65454167, -0.61609573,\n",
       "         1.97916103, -1.60581229, -1.03101577, -0.37917623,  1.54012949],\n",
       "       [-3.11329668,  2.36397688, -0.0405822 ,  2.16491795,  1.11904065,\n",
       "        -0.88338597, -1.09832125, -0.60882734,  0.69677077,  2.74540123],\n",
       "       [ 0.86592507, -0.59768275,  1.54093369, -0.69163861, -1.81828349,\n",
       "         1.84553628, -1.48871312, -0.34852651,  2.17386775, -0.61667932]])"
      ]
     },
     "execution_count": 32,
     "metadata": {},
     "output_type": "execute_result"
    }
   ],
   "source": [
    "# array of random numbers in range -2pi to 2pi\n",
    "b = np.random.uniform(-np.pi, np.pi, (10,10))\n",
    "b"
   ]
  },
  {
   "cell_type": "code",
   "execution_count": 33,
   "metadata": {},
   "outputs": [
    {
     "data": {
      "text/plain": [
       "array([[ 0.64304345, -0.78287754,  0.99999544, -0.56132402, -0.43809903,\n",
       "         0.9427839 , -0.27789174, -0.43975665, -0.99963978,  0.07224683],\n",
       "       [ 0.05653104,  0.42892562, -0.48681656, -0.91396053, -0.62623557,\n",
       "        -0.77883891, -0.61492356, -0.94054516, -0.3949339 , -0.15697394],\n",
       "       [ 0.1175886 ,  0.90288672,  0.78636054,  0.17926822, -0.87210974,\n",
       "         0.1912755 ,  0.44999793, -0.99145615,  0.51747663, -0.96435426],\n",
       "       [ 0.57359688, -0.83727174,  0.83085494,  0.29681529, -0.58544541,\n",
       "        -0.98845403,  0.65490069, -0.92471862, -0.64194952,  0.19804887],\n",
       "       [-0.49030107, -0.90608535, -0.71221458,  0.50868803,  0.92341135,\n",
       "         0.85123431,  0.61244547, -0.46863671, -0.91316012,  0.97540095],\n",
       "       [-0.42673947, -0.8120819 ,  0.49907982, -0.75787859, -0.9962346 ,\n",
       "        -0.78042045,  0.40750143,  0.77807239,  0.61376665,  0.88923973],\n",
       "       [-0.99187665,  0.76670483, -0.13394019, -0.98243663,  0.18638246,\n",
       "        -0.25390263,  0.99873384,  0.55687522,  0.16515627, -0.11096644],\n",
       "       [ 0.55242534,  0.49648447, -0.99449087,  0.46802183, -0.57785314,\n",
       "         0.91777144, -0.999387  , -0.85782148, -0.37015534,  0.99952981],\n",
       "       [-0.02829219,  0.70158244, -0.04057106,  0.82864052,  0.89968206,\n",
       "        -0.77289183, -0.89044463, -0.5719059 ,  0.64174448,  0.38590759],\n",
       "       [ 0.76169498, -0.56272845,  0.99955414, -0.6378001 , -0.96953105,\n",
       "         0.96249578, -0.99663306, -0.34151328,  0.82359747, -0.57832933]])"
      ]
     },
     "execution_count": 33,
     "metadata": {},
     "output_type": "execute_result"
    }
   ],
   "source": [
    "# sin of each value\n",
    "np.sin(b)"
   ]
  },
  {
   "cell_type": "code",
   "execution_count": 34,
   "metadata": {},
   "outputs": [
    {
     "data": {
      "text/plain": [
       "array([[-0.35886917,  0.80750892,  0.44965859,  0.93436947,  0.98883826,\n",
       "         0.6474742 ,  1.05081951,  0.98815174,  0.43434697,  1.12144393],\n",
       "       [ 1.12656186, -0.81350154,  0.96818125,  0.1423143 ,  0.90214204,\n",
       "        -0.11337866,  0.90797772,  0.20231348, -0.90141223,  1.09325356],\n",
       "       [-2.13824694,  0.70069591,  0.80500034,  1.08564527,  0.05779479,\n",
       "        -1.64785927, -0.7619336 ,  0.36463143,  0.95462384,  0.60900471],\n",
       "       [-0.49283806,  0.76515071,  0.77054813,  1.04388741,  0.92273524,\n",
       "         0.34973349,  0.886879  ,  0.16576502,  0.8938629 , -1.61260811],\n",
       "       [-0.66858109,  0.1256965 ,  0.85396613, -0.62799589,  0.67534823,\n",
       "         0.75295255, -0.41680352,  0.97600981,  0.68844701,  0.2990171 ],\n",
       "       [-0.81897254, -0.05370569,  0.96281398,  0.82484953,  0.39473364,\n",
       "        -0.11055401,  1.00132146, -0.11474736,  0.90856894,  0.0913756 ],\n",
       "       [ 0.36689566,  0.8188543 , -2.00735208,  0.5644572 , -1.67408954,\n",
       "        -1.35979661,  0.48311964,  0.93647513, -1.79627092,  1.1086937 ],\n",
       "       [ 0.93856935,  0.96395589,  0.38238765,  0.97627201, -0.48435293,\n",
       "         0.68267303,  0.47362973,  0.0305445 , -0.96975418,  0.4318665 ],\n",
       "       [ 1.13568219,  0.86034532, -3.20442583,  0.77238246,  0.11247176,\n",
       "        -0.12399306,  0.09378288, -0.49622056, -0.36129881,  1.00992723],\n",
       "       [-0.1439569 , -0.51469519,  0.43238852, -0.3686917 ,  0.59789292,\n",
       "         0.6127699 ,  0.39791207, -1.05404099,  0.77650795, -0.48340613]])"
      ]
     },
     "execution_count": 34,
     "metadata": {},
     "output_type": "execute_result"
    }
   ],
   "source": [
    "# logarithm of each value, need to take absolute value because logarithm\n",
    "# not defined for negative values\n",
    "np.log(np.abs(b))"
   ]
  },
  {
   "cell_type": "markdown",
   "metadata": {},
   "source": [
    "So far all of the previous examples have applied a scalar or a function\n",
    "transformation to each element of an array.\n",
    "\n",
    "Operations between 2 arrays are also defined, and by default perform elementwise\n",
    "operations.  They are defined normally when the arrays are of the same shape.\n",
    "An example should make this clearer."
   ]
  },
  {
   "cell_type": "code",
   "execution_count": 35,
   "metadata": {},
   "outputs": [],
   "source": [
    "# arrays of same size and shape\n",
    "a = np.array([1, 5, 7, 9])\n",
    "b = np.array([-1, 4, -10, 6])"
   ]
  },
  {
   "cell_type": "code",
   "execution_count": 36,
   "metadata": {},
   "outputs": [
    {
     "data": {
      "text/plain": [
       "array([ 0,  9, -3, 15])"
      ]
     },
     "execution_count": 36,
     "metadata": {},
     "output_type": "execute_result"
    }
   ],
   "source": [
    "a + b"
   ]
  },
  {
   "cell_type": "code",
   "execution_count": 37,
   "metadata": {},
   "outputs": [
    {
     "data": {
      "text/plain": [
       "array([ 2,  1, 17,  3])"
      ]
     },
     "execution_count": 37,
     "metadata": {},
     "output_type": "execute_result"
    }
   ],
   "source": [
    "a - b"
   ]
  },
  {
   "cell_type": "markdown",
   "metadata": {},
   "source": [
    "In some vectorized languages, multiplication opeator `*` is defined to perform\n",
    "matrix multiplcation by default.  For NumPy arrays, it performs elementwise\n",
    "multiplication by default."
   ]
  },
  {
   "cell_type": "code",
   "execution_count": 38,
   "metadata": {},
   "outputs": [
    {
     "data": {
      "text/plain": [
       "array([[2, 0],\n",
       "       [0, 4]])"
      ]
     },
     "execution_count": 38,
     "metadata": {},
     "output_type": "execute_result"
    }
   ],
   "source": [
    "A = np.array( [ [1, 1],\n",
    "                [0, 1] ])\n",
    "\n",
    "B = np.array( [ [2, 0],\n",
    "                [3, 4] ])\n",
    "\n",
    "# this is just the elementwise product of the two matrices\n",
    "A * B"
   ]
  },
  {
   "cell_type": "markdown",
   "metadata": {},
   "source": [
    "If you need true matrix multiplication, the `@` operator has been overloaded\n",
    "in recent versions of Numpy for matrix multiplication, or you can use the\n",
    "`np.dot()` function which computes the dot product, another name for matrix\n",
    "multiplication."
   ]
  },
  {
   "cell_type": "code",
   "execution_count": 39,
   "metadata": {},
   "outputs": [
    {
     "data": {
      "text/plain": [
       "array([[5, 4],\n",
       "       [3, 4]])"
      ]
     },
     "execution_count": 39,
     "metadata": {},
     "output_type": "execute_result"
    }
   ],
   "source": [
    "# matrix multiplication\n",
    "A @ B"
   ]
  },
  {
   "cell_type": "code",
   "execution_count": 40,
   "metadata": {},
   "outputs": [
    {
     "data": {
      "text/plain": [
       "array([[5, 4],\n",
       "       [3, 4]])"
      ]
     },
     "execution_count": 40,
     "metadata": {},
     "output_type": "execute_result"
    }
   ],
   "source": [
    "# also the dot() member function performs matrix multiplication\n",
    "A.dot(B)"
   ]
  },
  {
   "cell_type": "markdown",
   "metadata": {},
   "source": [
    "## Combining vectorized operations\n",
    "\n",
    "In the previous examples we  showed that elementwise vectorized operations can be chained.\n",
    "The result of taking the absolute value of the matrix was then fed to the\n",
    "`log()` function, so we applied absolute value followed by log function\n",
    "operations successively to each value of array b.\n",
    "\n",
    "We also showed that when 2 arrays are used on both sides of an operation, the\n",
    "result is an elementwise vectorized operation.\n",
    "\n",
    "In general more complex vectorized expressions can be built up by composing\n",
    "many basic vectorized operations together.  So for example, jumping ahead a bit,\n",
    "but a very common thing we might do is something like the following."
   ]
  },
  {
   "cell_type": "code",
   "execution_count": 41,
   "metadata": {},
   "outputs": [],
   "source": [
    "# x values range from -4 to 4\n",
    "x = np.linspace(-4.0, 4.0, 1000)"
   ]
  },
  {
   "cell_type": "markdown",
   "metadata": {},
   "source": [
    "Calculate and display function\n",
    "\n",
    "$$\n",
    "f(x) = 50 \\sin(x^2) + \\frac{1}{2} x^3 - 10 \\cos(\\frac{x}{2})\n",
    "$$"
   ]
  },
  {
   "cell_type": "code",
   "execution_count": 42,
   "metadata": {},
   "outputs": [],
   "source": [
    "# calculate the function f(x) composed of elementwise transformations\n",
    "y = 50.0 * np.sin(x**2.0) + 0.5 * x**3.0 - 10.0 * np.cos(x/2.0)"
   ]
  },
  {
   "cell_type": "code",
   "execution_count": 43,
   "metadata": {},
   "outputs": [
    {
     "data": {
      "image/png": "[encoded data removed]",
      "text/plain": [
       "<Figure size 1000x800 with 1 Axes>"
      ]
     },
     "metadata": {},
     "output_type": "display_data"
    }
   ],
   "source": [
    "# display the resulting function as a plot\n",
    "import matplotlib.pyplot as plt\n",
    "plt.figure(figsize=(10,8))\n",
    "plt.plot(x, y);"
   ]
  },
  {
   "cell_type": "markdown",
   "metadata": {},
   "source": [
    "## Array member functions\n",
    "\n",
    "In addition to many universal functions (like the vectorized math\n",
    "functions) provided by NumPy, there ae many member functions of\n",
    "an array itself that we will use.  These member functions\n",
    "are sometimes known as unary operations.\n",
    "[ndarray member function reference](https://numpy.org/doc/stable/reference/generated/numpy.ndarray.html)\n",
    "\n",
    "A few examples of some useful array member functions."
   ]
  },
  {
   "cell_type": "code",
   "execution_count": 44,
   "metadata": {},
   "outputs": [
    {
     "data": {
      "text/plain": [
       "array([[4, 2, 5, 4, 2, 3],\n",
       "       [1, 3, 1, 1, 2, 4],\n",
       "       [4, 3, 5, 1, 2, 2]])"
      ]
     },
     "execution_count": 44,
     "metadata": {},
     "output_type": "execute_result"
    }
   ],
   "source": [
    "# array of random integers\n",
    "a = np.random.randint(1, 6, (3,6))\n",
    "a"
   ]
  },
  {
   "cell_type": "code",
   "execution_count": 45,
   "metadata": {},
   "outputs": [
    {
     "data": {
      "text/plain": [
       "1"
      ]
     },
     "execution_count": 45,
     "metadata": {},
     "output_type": "execute_result"
    }
   ],
   "source": [
    "# minimum value of the array\n",
    "a.min()"
   ]
  },
  {
   "cell_type": "code",
   "execution_count": 46,
   "metadata": {},
   "outputs": [
    {
     "data": {
      "text/plain": [
       "array([1, 2, 1, 1, 2, 2])"
      ]
     },
     "execution_count": 46,
     "metadata": {},
     "output_type": "execute_result"
    }
   ],
   "source": [
    "# minimum of each column, use axis=0\n",
    "a.min(axis=0)"
   ]
  },
  {
   "cell_type": "code",
   "execution_count": 47,
   "metadata": {},
   "outputs": [
    {
     "data": {
      "text/plain": [
       "array([2, 1, 1])"
      ]
     },
     "execution_count": 47,
     "metadata": {},
     "output_type": "execute_result"
    }
   ],
   "source": [
    "# minimum of each row, use axis=1\n",
    "a.min(axis=1)"
   ]
  },
  {
   "cell_type": "code",
   "execution_count": 48,
   "metadata": {},
   "outputs": [
    {
     "data": {
      "text/plain": [
       "2.7222222222222223"
      ]
     },
     "execution_count": 48,
     "metadata": {},
     "output_type": "execute_result"
    }
   ],
   "source": [
    "# mean of all values\n",
    "a.mean()"
   ]
  },
  {
   "cell_type": "code",
   "execution_count": 49,
   "metadata": {},
   "outputs": [
    {
     "data": {
      "text/plain": [
       "49"
      ]
     },
     "execution_count": 49,
     "metadata": {},
     "output_type": "execute_result"
    }
   ],
   "source": [
    "# sum of all values\n",
    "a.sum()"
   ]
  },
  {
   "cell_type": "code",
   "execution_count": 50,
   "metadata": {},
   "outputs": [
    {
     "data": {
      "text/plain": [
       "array([ 9,  8, 11,  6,  6,  9])"
      ]
     },
     "execution_count": 50,
     "metadata": {},
     "output_type": "execute_result"
    }
   ],
   "source": [
    "# sum of each column\n",
    "a.sum(axis=0)"
   ]
  },
  {
   "cell_type": "code",
   "execution_count": 51,
   "metadata": {},
   "outputs": [
    {
     "data": {
      "text/plain": [
       "array([[4, 2, 5],\n",
       "       [4, 2, 3],\n",
       "       [1, 3, 1],\n",
       "       [1, 2, 4],\n",
       "       [4, 3, 5],\n",
       "       [1, 2, 2]])"
      ]
     },
     "execution_count": 51,
     "metadata": {},
     "output_type": "execute_result"
    }
   ],
   "source": [
    "# reshape the array\n",
    "a.reshape( (6,3) )"
   ]
  },
  {
   "cell_type": "code",
   "execution_count": 52,
   "metadata": {},
   "outputs": [
    {
     "data": {
      "text/plain": [
       "array([[[4, 2, 5],\n",
       "        [4, 2, 3],\n",
       "        [1, 3, 1]],\n",
       "\n",
       "       [[1, 2, 4],\n",
       "        [4, 3, 5],\n",
       "        [1, 2, 2]]])"
      ]
     },
     "execution_count": 52,
     "metadata": {},
     "output_type": "execute_result"
    }
   ],
   "source": [
    "a.reshape( (2,3,3) )"
   ]
  },
  {
   "cell_type": "code",
   "execution_count": 53,
   "metadata": {},
   "outputs": [
    {
     "data": {
      "text/plain": [
       "array([4, 2, 5, 4, 2, 3, 1, 3, 1, 1, 2, 4, 4, 3, 5, 1, 2, 2])"
      ]
     },
     "execution_count": 53,
     "metadata": {},
     "output_type": "execute_result"
    }
   ],
   "source": [
    "a.flatten()"
   ]
  },
  {
   "cell_type": "markdown",
   "metadata": {},
   "source": [
    "## Elementwise logical expressions\n",
    "\n",
    "Logical expressions work elementwise for NumPy arrays, just like numerical\n",
    "expressions.  The result will be an array of boolean values.\n",
    "\n",
    "So for example you can use the logical operators like `<`, `>=`, `==`, etc.\n",
    "to get a result of booleans."
   ]
  },
  {
   "cell_type": "code",
   "execution_count": 54,
   "metadata": {},
   "outputs": [
    {
     "data": {
      "text/plain": [
       "array([[4, 2, 5, 4, 2, 3],\n",
       "       [1, 3, 1, 1, 2, 4],\n",
       "       [4, 3, 5, 1, 2, 2]])"
      ]
     },
     "execution_count": 54,
     "metadata": {},
     "output_type": "execute_result"
    }
   ],
   "source": [
    "a"
   ]
  },
  {
   "cell_type": "code",
   "execution_count": 55,
   "metadata": {},
   "outputs": [
    {
     "data": {
      "text/plain": [
       "array([[False, False, False, False, False, False],\n",
       "       [ True, False,  True,  True, False, False],\n",
       "       [False, False, False,  True, False, False]])"
      ]
     },
     "execution_count": 55,
     "metadata": {},
     "output_type": "execute_result"
    }
   ],
   "source": [
    "a == 1"
   ]
  },
  {
   "cell_type": "code",
   "execution_count": 56,
   "metadata": {},
   "outputs": [
    {
     "data": {
      "text/plain": [
       "array([[False,  True, False, False,  True, False],\n",
       "       [ True, False,  True,  True,  True, False],\n",
       "       [False, False, False,  True,  True,  True]])"
      ]
     },
     "execution_count": 56,
     "metadata": {},
     "output_type": "execute_result"
    }
   ],
   "source": [
    "a <= 2"
   ]
  },
  {
   "cell_type": "markdown",
   "metadata": {},
   "source": [
    "We will see later on when we perform boolean indexing how and why this\n",
    "might be useful.\n",
    "\n",
    "You can make more complex boolean expressions, however the logical operators\n",
    "like `and` `or` and `not` do not work on arrays for elementwise boolean\n",
    "expressions, so the following will fail if you want the locations in\n",
    "a where the value is either a 1 or a 5."
   ]
  },
  {
   "cell_type": "code",
   "execution_count": 57,
   "metadata": {},
   "outputs": [
    {
     "name": "stdout",
     "output_type": "stream",
     "text": [
      "ValueError was generated: The truth value of an array with more than one element is ambiguous. Use a.any() or a.all()\n"
     ]
    }
   ],
   "source": [
    "try:\n",
    "    (a == 1) or (a == 5)\n",
    "except ValueError:\n",
    "    print(\"ValueError was generated: The truth value of an array with more than one element is ambiguous. Use a.any() or a.all()\")"
   ]
  },
  {
   "cell_type": "markdown",
   "metadata": {},
   "source": [
    "The error message here is misleading.  You should use the numpy logical functions\n",
    "to perform these operations, like this."
   ]
  },
  {
   "cell_type": "code",
   "execution_count": 58,
   "metadata": {},
   "outputs": [
    {
     "data": {
      "text/plain": [
       "array([[False, False,  True, False, False, False],\n",
       "       [ True, False,  True,  True, False, False],\n",
       "       [False, False,  True,  True, False, False]])"
      ]
     },
     "execution_count": 58,
     "metadata": {},
     "output_type": "execute_result"
    }
   ],
   "source": [
    "np.logical_or(a == 1, a == 5)"
   ]
  },
  {
   "cell_type": "markdown",
   "metadata": {},
   "source": [
    "Also, though `and` and `or` were not overloaded to perform elementwise logical\n",
    "comparision, instead the bitwise operators were overloaded for NumPy arrays\n",
    "for this purpose.  These are the operators `&` for and `|` for or,\n",
    "`~` for not and `^` for xor.  \n",
    "\n",
    "So you will often commonly see these operators used instead to create logical\n",
    "expressions between multiple NumPy arrays."
   ]
  },
  {
   "cell_type": "code",
   "execution_count": 59,
   "metadata": {},
   "outputs": [
    {
     "data": {
      "text/plain": [
       "array([[False, False,  True, False, False, False],\n",
       "       [ True, False,  True,  True, False, False],\n",
       "       [False, False,  True,  True, False, False]])"
      ]
     },
     "execution_count": 59,
     "metadata": {},
     "output_type": "execute_result"
    }
   ],
   "source": [
    "(a == 1) | (a == 5)"
   ]
  },
  {
   "cell_type": "markdown",
   "metadata": {},
   "source": [
    "# Indexing, Slicing and Iterating\n",
    "\n",
    "It is important you understand array slicing.  A one-dimensional array\n",
    "can be indexed, sliced and iterated over in pretty much an identical\n",
    "manner to lists and other Python sequences."
   ]
  },
  {
   "cell_type": "code",
   "execution_count": 60,
   "metadata": {},
   "outputs": [
    {
     "data": {
      "text/plain": [
       "array([  0,   1,   8,  27,  64, 125, 216, 343, 512, 729])"
      ]
     },
     "execution_count": 60,
     "metadata": {},
     "output_type": "execute_result"
    }
   ],
   "source": [
    "# a 1-dimensional array of 10 values\n",
    "a = np.arange(10)**3\n",
    "a"
   ]
  },
  {
   "cell_type": "code",
   "execution_count": 61,
   "metadata": {},
   "outputs": [
    {
     "data": {
      "text/plain": [
       "8"
      ]
     },
     "execution_count": 61,
     "metadata": {},
     "output_type": "execute_result"
    }
   ],
   "source": [
    "# index the 3rd element at index 2\n",
    "a[2]"
   ]
  },
  {
   "cell_type": "code",
   "execution_count": 62,
   "metadata": {},
   "outputs": [
    {
     "data": {
      "text/plain": [
       "array([ 8, 27, 64])"
      ]
     },
     "execution_count": 62,
     "metadata": {},
     "output_type": "execute_result"
    }
   ],
   "source": [
    "# get a slice from element 2 to up to by not including element 5\n",
    "a[2:5]"
   ]
  },
  {
   "cell_type": "code",
   "execution_count": 63,
   "metadata": {},
   "outputs": [
    {
     "data": {
      "text/plain": [
       "array([  0,   8,  64, 216])"
      ]
     },
     "execution_count": 63,
     "metadata": {},
     "output_type": "execute_result"
    }
   ],
   "source": [
    "# use step size to get even values from start up to element 6\n",
    "a[:7:2]"
   ]
  },
  {
   "cell_type": "code",
   "execution_count": 64,
   "metadata": {},
   "outputs": [
    {
     "data": {
      "text/plain": [
       "array([729, 512, 343, 216, 125,  64,  27,   8,   1,   0])"
      ]
     },
     "execution_count": 64,
     "metadata": {},
     "output_type": "execute_result"
    }
   ],
   "source": [
    "# reverse the array\n",
    "a[::-1]"
   ]
  },
  {
   "cell_type": "code",
   "execution_count": 65,
   "metadata": {},
   "outputs": [
    {
     "name": "stdout",
     "output_type": "stream",
     "text": [
      "0.0\n",
      "1.0\n",
      "2.0\n",
      "3.0\n",
      "3.9999999999999996\n",
      "4.999999999999999\n",
      "5.999999999999999\n",
      "6.999999999999999\n",
      "7.999999999999999\n",
      "8.999999999999998\n"
     ]
    }
   ],
   "source": [
    "# iterate over elements in the array\n",
    "for val in a:\n",
    "    print(val**(1.0/3.0))"
   ]
  },
  {
   "cell_type": "markdown",
   "metadata": {},
   "source": [
    "Although as we noted in a previous video, there is one big difference between\n",
    "arrays and regular Python sequences when it comes to slicing.\n",
    "\n",
    "When you slice an array, you get a view of the array."
   ]
  },
  {
   "cell_type": "code",
   "execution_count": 66,
   "metadata": {},
   "outputs": [
    {
     "data": {
      "text/plain": [
       "array([ 8, 27, 64])"
      ]
     },
     "execution_count": 66,
     "metadata": {},
     "output_type": "execute_result"
    }
   ],
   "source": [
    "b = a[2:5]\n",
    "b"
   ]
  },
  {
   "cell_type": "code",
   "execution_count": 67,
   "metadata": {},
   "outputs": [
    {
     "data": {
      "text/plain": [
       "array([  0,   1,   0,   0,   0, 125, 216, 343, 512, 729])"
      ]
     },
     "execution_count": 67,
     "metadata": {},
     "output_type": "execute_result"
    }
   ],
   "source": [
    "a[2:5] = 0\n",
    "a"
   ]
  },
  {
   "cell_type": "code",
   "execution_count": 68,
   "metadata": {},
   "outputs": [
    {
     "data": {
      "text/plain": [
       "array([0, 0, 0])"
      ]
     },
     "execution_count": 68,
     "metadata": {},
     "output_type": "execute_result"
    }
   ],
   "source": [
    "b"
   ]
  },
  {
   "cell_type": "markdown",
   "metadata": {},
   "source": [
    "So notice by change the values to 0 in a, the view in b now also shows them as 0.\n",
    "\n",
    "But be aware that some operations work in place, so the view will stay, but some\n",
    "operations end up creating a new copy of hte values.  For example."
   ]
  },
  {
   "cell_type": "code",
   "execution_count": 69,
   "metadata": {},
   "outputs": [
    {
     "data": {
      "text/plain": [
       "array([ 0, 10,  0])"
      ]
     },
     "execution_count": 69,
     "metadata": {},
     "output_type": "execute_result"
    }
   ],
   "source": [
    "# b is still a view\n",
    "b[1] = 10\n",
    "b"
   ]
  },
  {
   "cell_type": "code",
   "execution_count": 70,
   "metadata": {},
   "outputs": [
    {
     "data": {
      "text/plain": [
       "array([  0,   1,   0,  10,   0, 125, 216, 343, 512, 729])"
      ]
     },
     "execution_count": 70,
     "metadata": {},
     "output_type": "execute_result"
    }
   ],
   "source": [
    "# sow the change to a value of 10 shows up in a as well\n",
    "a"
   ]
  },
  {
   "cell_type": "code",
   "execution_count": 71,
   "metadata": {},
   "outputs": [
    {
     "data": {
      "text/plain": [
       "array([ 5, 15,  5])"
      ]
     },
     "execution_count": 71,
     "metadata": {},
     "output_type": "execute_result"
    }
   ],
   "source": [
    "# operators +=, *=, etc. will work in place, so b remains a view of a\n",
    "b += 5\n",
    "b"
   ]
  },
  {
   "cell_type": "code",
   "execution_count": 72,
   "metadata": {},
   "outputs": [
    {
     "data": {
      "text/plain": [
       "array([  0,   1,   5,  15,   5, 125, 216, 343, 512, 729])"
      ]
     },
     "execution_count": 72,
     "metadata": {},
     "output_type": "execute_result"
    }
   ],
   "source": [
    "a"
   ]
  },
  {
   "cell_type": "code",
   "execution_count": 73,
   "metadata": {},
   "outputs": [
    {
     "data": {
      "text/plain": [
       "array([10, 20, 10])"
      ]
     },
     "execution_count": 73,
     "metadata": {},
     "output_type": "execute_result"
    }
   ],
   "source": [
    "# but performing the same operation again, but using just a regular assignment\n",
    "# causes a copy to be made\n",
    "b = b + 5\n",
    "b"
   ]
  },
  {
   "cell_type": "code",
   "execution_count": 74,
   "metadata": {},
   "outputs": [
    {
     "data": {
      "text/plain": [
       "array([  0,   1,   5,  15,   5, 125, 216, 343, 512, 729])"
      ]
     },
     "execution_count": 74,
     "metadata": {},
     "output_type": "execute_result"
    }
   ],
   "source": [
    "a"
   ]
  },
  {
   "cell_type": "markdown",
   "metadata": {},
   "source": [
    "The lesson of the last example is you do have to be a bit careful.  I usually\n",
    "assume slices will be views.  Making a view rather than a copy is done for\n",
    "efficiency reasons.  A primary goal of NumPy is to provide efficient numerical\n",
    "in memory calculations.  So copying arrays when evaluating results is avoided\n",
    "if at all possible, thus views are the normal result from a slice."
   ]
  },
  {
   "cell_type": "markdown",
   "metadata": {},
   "source": [
    "## Multidimensional indexing and slicing\n",
    "\n",
    "When your `ndarray` has 2 or more dimensions, you can still perform indexing\n",
    "and slicing operations.  All of the same indexing and slicing syntax is\n",
    "available on a NumPy array for every dimension of the array.\n",
    "\n",
    "So for a multidimensional array you can hae one indexing/slicing expression\n",
    "per axis.  These indices are given in a tuple separated by commas.\n"
   ]
  },
  {
   "cell_type": "code",
   "execution_count": 75,
   "metadata": {},
   "outputs": [
    {
     "data": {
      "text/plain": [
       "array([[ 0,  1,  4,  9],\n",
       "       [ 3,  4,  7, 12],\n",
       "       [ 6,  7, 10, 15],\n",
       "       [ 9, 10, 13, 18],\n",
       "       [12, 13, 16, 21]])"
      ]
     },
     "execution_count": 75,
     "metadata": {},
     "output_type": "execute_result"
    }
   ],
   "source": [
    "# construct array as a function of each coordinate.  Since\n",
    "# the array is 2 dimensional, the function will receive two coordinates,\n",
    "# the row number and column number\n",
    "def f(row, col):\n",
    "    return 3*row + col**2\n",
    "\n",
    "# create an 2-dimensional array of integers\n",
    "b = np.fromfunction(f, (5,4), dtype=int)\n",
    "b"
   ]
  },
  {
   "cell_type": "code",
   "execution_count": 76,
   "metadata": {},
   "outputs": [
    {
     "data": {
      "text/plain": [
       "15"
      ]
     },
     "execution_count": 76,
     "metadata": {},
     "output_type": "execute_result"
    }
   ],
   "source": [
    "# item at row 2, column 3\n",
    "b[2,3]"
   ]
  },
  {
   "cell_type": "code",
   "execution_count": 77,
   "metadata": {},
   "outputs": [
    {
     "data": {
      "text/plain": [
       "10"
      ]
     },
     "execution_count": 77,
     "metadata": {},
     "output_type": "execute_result"
    }
   ],
   "source": [
    "# item at row 3, column 1\n",
    "b[3,1]"
   ]
  },
  {
   "cell_type": "markdown",
   "metadata": {},
   "source": [
    "We can extract a column or set of columns.  This is common if/when we want to\n",
    "perform an operation on some attribute or feature of a data set."
   ]
  },
  {
   "cell_type": "code",
   "execution_count": 78,
   "metadata": {},
   "outputs": [
    {
     "data": {
      "text/plain": [
       "array([ 1,  4,  7, 10, 13])"
      ]
     },
     "execution_count": 78,
     "metadata": {},
     "output_type": "execute_result"
    }
   ],
   "source": [
    "# all rows, the column 1 only of them\n",
    "b[0:5, 1]"
   ]
  },
  {
   "cell_type": "code",
   "execution_count": 79,
   "metadata": {},
   "outputs": [
    {
     "data": {
      "text/plain": [
       "array([ 1,  4,  7, 10, 13])"
      ]
     },
     "execution_count": 79,
     "metadata": {},
     "output_type": "execute_result"
    }
   ],
   "source": [
    "# since there are only 5 rows, this is equivalent to extract column 1\n",
    "b[:, 1]"
   ]
  },
  {
   "cell_type": "markdown",
   "metadata": {},
   "source": [
    "Likewise we can extract rows.  This is common to get a subset of samples from\n",
    "a data set.  "
   ]
  },
  {
   "cell_type": "code",
   "execution_count": 80,
   "metadata": {},
   "outputs": [
    {
     "data": {
      "text/plain": [
       "array([[ 6,  7, 10, 15],\n",
       "       [ 9, 10, 13, 18]])"
      ]
     },
     "execution_count": 80,
     "metadata": {},
     "output_type": "execute_result"
    }
   ],
   "source": [
    "# extract rows 2 and 3, all columns\n",
    "b[2:4, :]"
   ]
  },
  {
   "cell_type": "markdown",
   "metadata": {},
   "source": [
    "If we want all columns, you can omit any final dimensions where you want all values\n",
    "in them.  So to get rows 2 and 3 we simply do the following.  We will use this\n",
    "type of slice frequently to extract samples from a table of data values we are\n",
    "manipulating."
   ]
  },
  {
   "cell_type": "code",
   "execution_count": 81,
   "metadata": {},
   "outputs": [
    {
     "data": {
      "text/plain": [
       "array([[ 6,  7, 10, 15],\n",
       "       [ 9, 10, 13, 18]])"
      ]
     },
     "execution_count": 81,
     "metadata": {},
     "output_type": "execute_result"
    }
   ],
   "source": [
    "b[2:4]"
   ]
  },
  {
   "cell_type": "markdown",
   "metadata": {},
   "source": [
    "We can get even more complex, like get the values in the middle and use\n",
    "steps, which sometimes can be useful."
   ]
  },
  {
   "cell_type": "code",
   "execution_count": 82,
   "metadata": {},
   "outputs": [
    {
     "data": {
      "text/plain": [
       "array([[ 4,  7],\n",
       "       [ 7, 10],\n",
       "       [10, 13]])"
      ]
     },
     "execution_count": 82,
     "metadata": {},
     "output_type": "execute_result"
    }
   ],
   "source": [
    "# the clip off first and last row and column to get middle values\n",
    "b[1:-1, 1:-1]"
   ]
  },
  {
   "cell_type": "code",
   "execution_count": 83,
   "metadata": {},
   "outputs": [
    {
     "data": {
      "text/plain": [
       "array([[ 0,  1,  4,  9],\n",
       "       [ 6,  7, 10, 15],\n",
       "       [12, 13, 16, 21]])"
      ]
     },
     "execution_count": 83,
     "metadata": {},
     "output_type": "execute_result"
    }
   ],
   "source": [
    "# get every other row\n",
    "b[::2]"
   ]
  },
  {
   "cell_type": "code",
   "execution_count": 84,
   "metadata": {},
   "outputs": [
    {
     "data": {
      "text/plain": [
       "array([[ 1,  9],\n",
       "       [ 4, 12],\n",
       "       [ 7, 15],\n",
       "       [10, 18],\n",
       "       [13, 21]])"
      ]
     },
     "execution_count": 84,
     "metadata": {},
     "output_type": "execute_result"
    }
   ],
   "source": [
    "# get every other column, start at column 1\n",
    "b[:,1::2]"
   ]
  },
  {
   "cell_type": "markdown",
   "metadata": {},
   "source": [
    "An notice like we did before for a single dimension, we can use a slice to\n",
    "manipulate only the values in a row or column, or in general some slice."
   ]
  },
  {
   "cell_type": "code",
   "execution_count": 85,
   "metadata": {},
   "outputs": [
    {
     "data": {
      "text/plain": [
       "array([[  0,   1,  -4,   9],\n",
       "       [  3,   4,  -7,  12],\n",
       "       [  6,   7, -10,  15],\n",
       "       [ -1,   0, -23,   8],\n",
       "       [ 12,  13, -16,  21]])"
      ]
     },
     "execution_count": 85,
     "metadata": {},
     "output_type": "execute_result"
    }
   ],
   "source": [
    "# make column 2 be the negative of its current value\n",
    "b[:,2] = -b[:,2]\n",
    "\n",
    "# subtract 10 from values in row 3\n",
    "b[3] -= 10\n",
    "\n",
    "b"
   ]
  },
  {
   "cell_type": "markdown",
   "metadata": {},
   "source": [
    "We almost never iterate over NumPy arrays.  If you are iterating over a NumPy\n",
    "array you are probably not using more efficient vectorized elementwise operations.\n",
    "\n",
    "However, we can do it like we did for a single dimensional array.  If we do it for\n",
    "the 2-dimensional array, we will iterate over each row "
   ]
  },
  {
   "cell_type": "code",
   "execution_count": 86,
   "metadata": {},
   "outputs": [
    {
     "name": "stdout",
     "output_type": "stream",
     "text": [
      "[ 0  1 -4  9]\n",
      "[ 3  4 -7 12]\n",
      "[  6   7 -10  15]\n",
      "[ -1   0 -23   8]\n",
      "[ 12  13 -16  21]\n"
     ]
    }
   ],
   "source": [
    "for row in b:\n",
    "    print(row)"
   ]
  },
  {
   "cell_type": "markdown",
   "metadata": {},
   "source": [
    "If you want to iterate over every element, you can flatten the array using\n",
    "either the `flatten()` method, or better use the `flat` attribute of arrays which\n",
    "gives a 1-dimensional view into the array."
   ]
  },
  {
   "cell_type": "code",
   "execution_count": 87,
   "metadata": {},
   "outputs": [
    {
     "name": "stdout",
     "output_type": "stream",
     "text": [
      "0\n",
      "1\n",
      "-4\n",
      "9\n",
      "3\n",
      "4\n",
      "-7\n",
      "12\n",
      "6\n",
      "7\n",
      "-10\n",
      "15\n",
      "-1\n",
      "0\n",
      "-23\n",
      "8\n",
      "12\n",
      "13\n",
      "-16\n",
      "21\n"
     ]
    }
   ],
   "source": [
    "for element in b.flat:\n",
    "    print(element)"
   ]
  },
  {
   "cell_type": "markdown",
   "metadata": {},
   "source": [
    "If you want to iterate over columns, you can use an explicit index and slice it."
   ]
  },
  {
   "cell_type": "code",
   "execution_count": 88,
   "metadata": {},
   "outputs": [
    {
     "name": "stdout",
     "output_type": "stream",
     "text": [
      "[ 0  3  6 -1 12]\n",
      "[ 1  4  7  0 13]\n",
      "[ -4  -7 -10 -23 -16]\n",
      "[ 9 12 15  8 21]\n"
     ]
    }
   ],
   "source": [
    "# extract number of cols in b\n",
    "rows,cols = b.shape\n",
    "for col in range(cols):\n",
    "    print(b[:,col])"
   ]
  },
  {
   "cell_type": "markdown",
   "metadata": {},
   "source": [
    "# Reshaping and Stacking arrays\n",
    "\n",
    "We already showed some examples of reshaping an array.  In general you can\n",
    "always flatten an array to a one-dimensional vector if needed.  All\n",
    "reshaping will always end up with the same number of elements, just shaped into\n",
    "different dimensions."
   ]
  },
  {
   "cell_type": "code",
   "execution_count": 89,
   "metadata": {},
   "outputs": [
    {
     "data": {
      "text/plain": [
       "(5, 4)"
      ]
     },
     "execution_count": 89,
     "metadata": {},
     "output_type": "execute_result"
    }
   ],
   "source": [
    "b.shape"
   ]
  },
  {
   "cell_type": "code",
   "execution_count": 90,
   "metadata": {},
   "outputs": [
    {
     "data": {
      "text/plain": [
       "array([  0,   1,  -4,   9,   3,   4,  -7,  12,   6,   7, -10,  15,  -1,\n",
       "         0, -23,   8,  12,  13, -16,  21])"
      ]
     },
     "execution_count": 90,
     "metadata": {},
     "output_type": "execute_result"
    }
   ],
   "source": [
    "b.flatten()"
   ]
  },
  {
   "cell_type": "code",
   "execution_count": 91,
   "metadata": {},
   "outputs": [
    {
     "data": {
      "text/plain": [
       "array([[[  0,   1],\n",
       "        [ -4,   9],\n",
       "        [  3,   4],\n",
       "        [ -7,  12],\n",
       "        [  6,   7]],\n",
       "\n",
       "       [[-10,  15],\n",
       "        [ -1,   0],\n",
       "        [-23,   8],\n",
       "        [ 12,  13],\n",
       "        [-16,  21]]])"
      ]
     },
     "execution_count": 91,
     "metadata": {},
     "output_type": "execute_result"
    }
   ],
   "source": [
    "# reshape as 3-dimenstional, 2 tables of 5 rows and 2 columns\n",
    "b.reshape((2,5,2))"
   ]
  },
  {
   "cell_type": "markdown",
   "metadata": {},
   "source": [
    "Several arrays can be stacked together along different axes.  The\n",
    "size of the axis/dimension being stacked along will need to match for\n",
    "the stacking to work."
   ]
  },
  {
   "cell_type": "code",
   "execution_count": 92,
   "metadata": {},
   "outputs": [
    {
     "data": {
      "text/plain": [
       "array([[4, 4],\n",
       "       [0, 0]])"
      ]
     },
     "execution_count": 92,
     "metadata": {},
     "output_type": "execute_result"
    }
   ],
   "source": [
    "a = np.random.randint(0, 5, (2,2))\n",
    "a"
   ]
  },
  {
   "cell_type": "code",
   "execution_count": 93,
   "metadata": {},
   "outputs": [
    {
     "data": {
      "text/plain": [
       "array([[0, 3],\n",
       "       [1, 3]])"
      ]
     },
     "execution_count": 93,
     "metadata": {},
     "output_type": "execute_result"
    }
   ],
   "source": [
    "b = np.random.randint(0, 5, (2,2))\n",
    "b"
   ]
  },
  {
   "cell_type": "code",
   "execution_count": 94,
   "metadata": {},
   "outputs": [
    {
     "data": {
      "text/plain": [
       "array([[4, 4],\n",
       "       [0, 0],\n",
       "       [0, 3],\n",
       "       [1, 3]])"
      ]
     },
     "execution_count": 94,
     "metadata": {},
     "output_type": "execute_result"
    }
   ],
   "source": [
    "# vertical stacking, put a on top of be\n",
    "# notice you need to pass in the arrays as a tuple here, because you can actually\n",
    "# stack 3 or more arrays of the same number of columns if you wish.\n",
    "np.vstack((a,b))"
   ]
  },
  {
   "cell_type": "code",
   "execution_count": 95,
   "metadata": {},
   "outputs": [
    {
     "data": {
      "text/plain": [
       "array([[4, 4, 0, 3],\n",
       "       [0, 0, 1, 3]])"
      ]
     },
     "execution_count": 95,
     "metadata": {},
     "output_type": "execute_result"
    }
   ],
   "source": [
    "# horizontal stacking, stack b beside a\n",
    "np.hstack((a,b))"
   ]
  },
  {
   "cell_type": "markdown",
   "metadata": {},
   "source": [
    "# Advanced Indexing and Index Tricks\n",
    "\n",
    "NumPy offers more indexing facilities than retular Python sequences.\n",
    "In addition to indexing by integers and slices (as we saw above), arrays\n",
    "can be indexed by arrays of integers and arrays of booleans."
   ]
  },
  {
   "cell_type": "markdown",
   "metadata": {},
   "source": [
    "## Indexing with arrays of indices\n",
    "\n",
    "If we have an array of indexes (also works with a regular Python sequence of \n",
    "indexes, like a list), we can use this to index into an array.\n",
    "\n",
    "For example."
   ]
  },
  {
   "cell_type": "code",
   "execution_count": 96,
   "metadata": {},
   "outputs": [
    {
     "data": {
      "text/plain": [
       "array([[ 0,  1,  4,  9],\n",
       "       [ 3,  4,  7, 12],\n",
       "       [ 6,  7, 10, 15],\n",
       "       [ 9, 10, 13, 18],\n",
       "       [12, 13, 16, 21]])"
      ]
     },
     "execution_count": 96,
     "metadata": {},
     "output_type": "execute_result"
    }
   ],
   "source": [
    "# use our 2-dimensional array b again from before \n",
    "\n",
    "# construct array as a function of each coordinate.  Since\n",
    "# the array is 2 dimensional, the function will receive two coordinates,\n",
    "# the row number and column number\n",
    "def f(row, col):\n",
    "    return 3*row + col**2\n",
    "\n",
    "# create an 2-dimensional array of integers\n",
    "b = np.fromfunction(f, (5,4), dtype=int)\n",
    "b"
   ]
  },
  {
   "cell_type": "code",
   "execution_count": 97,
   "metadata": {},
   "outputs": [
    {
     "data": {
      "text/plain": [
       "array([[ 3,  4,  7, 12],\n",
       "       [ 9, 10, 13, 18],\n",
       "       [12, 13, 16, 21]])"
      ]
     },
     "execution_count": 97,
     "metadata": {},
     "output_type": "execute_result"
    }
   ],
   "source": [
    "# selection rows 1 3 and 4 only\n",
    "rows = np.array([1,3,4])\n",
    "b[rows]"
   ]
  },
  {
   "cell_type": "code",
   "execution_count": 98,
   "metadata": {},
   "outputs": [
    {
     "data": {
      "text/plain": [
       "array([[ 3,  4,  7, 12],\n",
       "       [ 9, 10, 13, 18],\n",
       "       [12, 13, 16, 21]])"
      ]
     },
     "execution_count": 98,
     "metadata": {},
     "output_type": "execute_result"
    }
   ],
   "source": [
    "# works with a regular python list as well\n",
    "rows = [1, 3, 4]\n",
    "b[rows]"
   ]
  },
  {
   "cell_type": "code",
   "execution_count": 99,
   "metadata": {},
   "outputs": [
    {
     "data": {
      "text/plain": [
       "array([[ 0,  4],\n",
       "       [ 3,  7],\n",
       "       [ 6, 10],\n",
       "       [ 9, 13],\n",
       "       [12, 16]])"
      ]
     },
     "execution_count": 99,
     "metadata": {},
     "output_type": "execute_result"
    }
   ],
   "source": [
    "# works to select columns\n",
    "cols = [0, 2]\n",
    "b[:,cols]"
   ]
  },
  {
   "cell_type": "code",
   "execution_count": 100,
   "metadata": {},
   "outputs": [
    {
     "data": {
      "text/plain": [
       "array([3, 7])"
      ]
     },
     "execution_count": 100,
     "metadata": {},
     "output_type": "execute_result"
    }
   ],
   "source": [
    "# and we can select only some columns from some rows.  But when you supply\n",
    "# both an index for rows and columns, the lists must have the same shape\n",
    "# so to get rows 1,3,4 and only the columns 0 and 2 from them we need\n",
    "# to do something like this\n",
    "\n",
    "# first start simply, get column 0 and 2 from row 1 only\n",
    "rows = np.array([1, 1])\n",
    "cols = np.array([0, 2])\n",
    "b[rows,cols]"
   ]
  },
  {
   "cell_type": "code",
   "execution_count": 101,
   "metadata": {},
   "outputs": [
    {
     "data": {
      "text/plain": [
       "array([[ 3,  7],\n",
       "       [ 9, 13]])"
      ]
     },
     "execution_count": 101,
     "metadata": {},
     "output_type": "execute_result"
    }
   ],
   "source": [
    "# now we want those columns from rows 1 and 3\n",
    "# notice the arrays have to be of the same shape\n",
    "rows = np.array([[1, 1],\n",
    "                 [3, 3]])\n",
    "cols = np.array([[0, 2],\n",
    "                 [0, 2]])\n",
    "\n",
    "b[rows,cols]"
   ]
  },
  {
   "cell_type": "code",
   "execution_count": 102,
   "metadata": {},
   "outputs": [
    {
     "data": {
      "text/plain": [
       "array([[ 3,  7],\n",
       "       [ 9, 13],\n",
       "       [12, 16]])"
      ]
     },
     "execution_count": 102,
     "metadata": {},
     "output_type": "execute_result"
    }
   ],
   "source": [
    "# finally what we really wanted, rows 1,3 and 4 but only columns 0 and 2.\n",
    "# result of this is 3 rows and 2 columns, so our rows and columns\n",
    "# indexes need to be 3x2 to match the shape we are trying to extract\n",
    "rows = np.array([[1, 1],\n",
    "                 [3, 3],\n",
    "                 [4, 4]])\n",
    "cols = np.array([[0, 2],\n",
    "                 [0, 2],\n",
    "                 [0, 2]])\n",
    "\n",
    "b[rows,cols]"
   ]
  },
  {
   "cell_type": "markdown",
   "metadata": {},
   "source": [
    "This latter example is less common, we almost always need some particular rows\n",
    "or some particular columns.  And if you do need some rows and only some columns\n",
    "from those rows, it can be easier to perform the slicing in two steps instead."
   ]
  },
  {
   "cell_type": "code",
   "execution_count": 103,
   "metadata": {},
   "outputs": [
    {
     "data": {
      "text/plain": [
       "array([[ 3,  4,  7, 12],\n",
       "       [ 9, 10, 13, 18],\n",
       "       [12, 13, 16, 21]])"
      ]
     },
     "execution_count": 103,
     "metadata": {},
     "output_type": "execute_result"
    }
   ],
   "source": [
    "# first extract the sample rows\n",
    "rows = [1, 3, 4]\n",
    "samples = b[rows]\n",
    "samples"
   ]
  },
  {
   "cell_type": "code",
   "execution_count": 104,
   "metadata": {},
   "outputs": [
    {
     "data": {
      "text/plain": [
       "array([[ 3,  7],\n",
       "       [ 9, 13],\n",
       "       [12, 16]])"
      ]
     },
     "execution_count": 104,
     "metadata": {},
     "output_type": "execute_result"
    }
   ],
   "source": [
    "# now keep only the attributes we need\n",
    "cols = [0, 2]\n",
    "samples = samples[:,cols]\n",
    "samples"
   ]
  },
  {
   "cell_type": "markdown",
   "metadata": {},
   "source": [
    "Here is a more complex example of using lists to index into an array.\n",
    "We often might want to find the particular value in each row or column\n",
    "that is special or of some interest.\n",
    "\n",
    "Say we have a data set of 4 time dependent series.\n",
    "Here each series is a row, and the column would represent the common sample\n",
    "time in each case, e.g. t=0, 1, 2, 3, 4, 5, 6 (though we are just making\n",
    "up some example data here)."
   ]
  },
  {
   "cell_type": "code",
   "execution_count": 105,
   "metadata": {},
   "outputs": [
    {
     "data": {
      "text/plain": [
       "array([[ 0.        ,  0.84147098,  0.90929743,  0.14112001, -0.7568025 ,\n",
       "        -0.95892427, -0.2794155 ],\n",
       "       [ 0.6569866 ,  0.98935825,  0.41211849, -0.54402111, -0.99999021,\n",
       "        -0.53657292,  0.42016704],\n",
       "       [ 0.99060736,  0.65028784, -0.28790332, -0.96139749, -0.75098725,\n",
       "         0.14987721,  0.91294525],\n",
       "       [ 0.83665564, -0.00885131, -0.8462204 , -0.90557836, -0.13235175,\n",
       "         0.76255845,  0.95637593]])"
      ]
     },
     "execution_count": 105,
     "metadata": {},
     "output_type": "execute_result"
    }
   ],
   "source": [
    "# 4 time-dependent series sampled in each row of 7 time steps each\n",
    "data = np.sin(np.arange(28)).reshape(4,7)\n",
    "data"
   ]
  },
  {
   "cell_type": "code",
   "execution_count": 106,
   "metadata": {},
   "outputs": [
    {
     "data": {
      "text/plain": [
       "array([2, 1, 0, 6])"
      ]
     },
     "execution_count": 106,
     "metadata": {},
     "output_type": "execute_result"
    }
   ],
   "source": [
    "# index of maxima for each series,\n",
    "# argmax returns the index where the maximum occurs, \n",
    "# using axis=1 means we get the index for each of our 4 sample rows where \n",
    "# maximum value occurs\n",
    "ind = data.argmax(axis=1)\n",
    "ind"
   ]
  },
  {
   "cell_type": "code",
   "execution_count": 107,
   "metadata": {},
   "outputs": [
    {
     "data": {
      "text/plain": [
       "array([ 20.        ,  36.66666667,  53.33333333,  70.        ,\n",
       "        86.66666667, 103.33333333, 120.        ])"
      ]
     },
     "execution_count": 107,
     "metadata": {},
     "output_type": "execute_result"
    }
   ],
   "source": [
    "# these are the indexes.  Say the columns refer to a sample of the time\n",
    "# series starting at time 20 and going til time 120.  So the sample times\n",
    "# represent a time being sampled at\n",
    "time = np.linspace(20, 120, 7)\n",
    "time"
   ]
  },
  {
   "cell_type": "code",
   "execution_count": 108,
   "metadata": {},
   "outputs": [
    {
     "data": {
      "text/plain": [
       "array([ 53.33333333,  36.66666667,  20.        , 120.        ])"
      ]
     },
     "execution_count": 108,
     "metadata": {},
     "output_type": "execute_result"
    }
   ],
   "source": [
    "# so we can use the indexes to find the actual time where the maximum\n",
    "# occured for each time series sample\n",
    "time[ind]"
   ]
  },
  {
   "cell_type": "markdown",
   "metadata": {},
   "source": [
    "## Indexing with boolean arrays\n",
    "\n",
    "When we index arrays with arrays of (integer) indices we are providing the lit of\n",
    "indices to pick.\n",
    "\n",
    "With boolean indices the approach is different; we explicitly choose which items in the array we want and which ones we don't.\n",
    "\n",
    "The most naturaly way to think of and use boolean indexing is to use an array\n",
    "of boolean values that has the *same shape* as the original array.\n",
    "\n",
    "For example, we can create a boolean array using boolean operations, as we\n",
    "discussed earlier."
   ]
  },
  {
   "cell_type": "code",
   "execution_count": 109,
   "metadata": {},
   "outputs": [
    {
     "data": {
      "text/plain": [
       "array([[ 0,  1,  4,  9],\n",
       "       [ 3,  4,  7, 12],\n",
       "       [ 6,  7, 10, 15],\n",
       "       [ 9, 10, 13, 18],\n",
       "       [12, 13, 16, 21]])"
      ]
     },
     "execution_count": 109,
     "metadata": {},
     "output_type": "execute_result"
    }
   ],
   "source": [
    "b"
   ]
  },
  {
   "cell_type": "code",
   "execution_count": 110,
   "metadata": {},
   "outputs": [
    {
     "data": {
      "text/plain": [
       "array([[ True, False, False,  True],\n",
       "       [ True, False, False,  True],\n",
       "       [ True, False, False,  True],\n",
       "       [ True, False, False,  True],\n",
       "       [ True, False, False,  True]])"
      ]
     },
     "execution_count": 110,
     "metadata": {},
     "output_type": "execute_result"
    }
   ],
   "source": [
    "# boolean array of those items divible by 3\n",
    "b % 3 == 0"
   ]
  },
  {
   "cell_type": "code",
   "execution_count": 111,
   "metadata": {},
   "outputs": [
    {
     "data": {
      "text/plain": [
       "array([ 0,  9,  3, 12,  6, 15,  9, 18, 12, 21])"
      ]
     },
     "execution_count": 111,
     "metadata": {},
     "output_type": "execute_result"
    }
   ],
   "source": [
    "# use boolean indexing to extract only those values divible by 3\n",
    "b[ (b % 3 == 0) ]"
   ]
  },
  {
   "cell_type": "markdown",
   "metadata": {},
   "source": [
    "You will notice the result will be a 1-dimensional vector, even though in this\n",
    "case were selecting columns 0 and the last column, so we could have\n",
    "wanted a `(5,2)` shaped result.\n",
    "\n",
    "But this happens because a boolean selection can pick arbitrary values from\n",
    "the array.  For example."
   ]
  },
  {
   "cell_type": "code",
   "execution_count": 112,
   "metadata": {},
   "outputs": [
    {
     "data": {
      "text/plain": [
       "array([[False, False,  True,  True],\n",
       "       [False,  True,  True, False],\n",
       "       [ True,  True,  True, False],\n",
       "       [ True,  True, False, False],\n",
       "       [False, False, False, False]])"
      ]
     },
     "execution_count": 112,
     "metadata": {},
     "output_type": "execute_result"
    }
   ],
   "source": [
    "# notice you should not use and or or to boolean expressions between arrays, use &\n",
    "# and | instead, or a.any() a.all()\n",
    "(b >= 4) & (b <= 10)"
   ]
  },
  {
   "cell_type": "code",
   "execution_count": 113,
   "metadata": {},
   "outputs": [
    {
     "data": {
      "text/plain": [
       "array([ 4,  9,  4,  7,  6,  7, 10,  9, 10])"
      ]
     },
     "execution_count": 113,
     "metadata": {},
     "output_type": "execute_result"
    }
   ],
   "source": [
    "# values between 4 and 10\n",
    "b[ (b >= 4) & (b <= 10) ]"
   ]
  },
  {
   "cell_type": "markdown",
   "metadata": {},
   "source": [
    "Boolean indexing can be very useful for assignments, for example if we\n",
    "want to zero-out all of the numbers divisbly by 3\n"
   ]
  },
  {
   "cell_type": "code",
   "execution_count": 114,
   "metadata": {},
   "outputs": [
    {
     "data": {
      "text/plain": [
       "array([[ 0,  1,  4,  0],\n",
       "       [ 0,  4,  7,  0],\n",
       "       [ 0,  7, 10,  0],\n",
       "       [ 0, 10, 13,  0],\n",
       "       [ 0, 13, 16,  0]])"
      ]
     },
     "execution_count": 114,
     "metadata": {},
     "output_type": "execute_result"
    }
   ],
   "source": [
    "# assign something into the locations selected by our boolean index\n",
    "b[ (b % 3 == 0) ] = 0\n",
    "b"
   ]
  },
  {
   "cell_type": "markdown",
   "metadata": {},
   "source": [
    "The second way of indexing with booleans is more similar to integer\n",
    "indexing: for each dimension of the array we give a 1D boolean array selecting\n",
    "the slices we want.\n",
    "\n",
    "This implies that the boolean array has to have the same size as the size for the\n",
    "dimension you are slicing on.\n",
    "\n",
    "So we can get the same rows and columns we did previously but using\n",
    "boolean indexing like the following."
   ]
  },
  {
   "cell_type": "code",
   "execution_count": 115,
   "metadata": {},
   "outputs": [
    {
     "data": {
      "text/plain": [
       "array([[ 0,  1,  4,  9],\n",
       "       [ 3,  4,  7, 12],\n",
       "       [ 6,  7, 10, 15],\n",
       "       [ 9, 10, 13, 18],\n",
       "       [12, 13, 16, 21]])"
      ]
     },
     "execution_count": 115,
     "metadata": {},
     "output_type": "execute_result"
    }
   ],
   "source": [
    "# use our 2-dimensional array b again from before \n",
    "\n",
    "# construct array as a function of each coordinate.  Since\n",
    "# the array is 2 dimensional, the function will receive two coordinates,\n",
    "# the row number and column number\n",
    "def f(row, col):\n",
    "    return 3*row + col**2\n",
    "\n",
    "# create an 2-dimensional array of integers\n",
    "b = np.fromfunction(f, (5,4), dtype=int)\n",
    "b"
   ]
  },
  {
   "cell_type": "code",
   "execution_count": 116,
   "metadata": {},
   "outputs": [
    {
     "data": {
      "text/plain": [
       "array([[ 3,  4,  7, 12],\n",
       "       [ 9, 10, 13, 18],\n",
       "       [12, 13, 16, 21]])"
      ]
     },
     "execution_count": 116,
     "metadata": {},
     "output_type": "execute_result"
    }
   ],
   "source": [
    "# select rows 1, 3 and 4 again but with a boolean index\n",
    "rows = [False, True, False, True, True]\n",
    "b[rows]"
   ]
  },
  {
   "cell_type": "code",
   "execution_count": 117,
   "metadata": {},
   "outputs": [
    {
     "data": {
      "text/plain": [
       "array([[ 0,  4],\n",
       "       [ 3,  7],\n",
       "       [ 6, 10],\n",
       "       [ 9, 13],\n",
       "       [12, 16]])"
      ]
     },
     "execution_count": 117,
     "metadata": {},
     "output_type": "execute_result"
    }
   ],
   "source": [
    "# select columns 0 and 2\n",
    "cols = [True, False, True, False]\n",
    "b[:,cols]"
   ]
  }
 ],
 "metadata": {
  "kernelspec": {
   "display_name": "Python 3 (ipykernel)",
   "language": "python",
   "name": "python3"
  },
  "language_info": {
   "codemirror_mode": {
    "name": "ipython",
    "version": 3
   },
   "file_extension": ".py",
   "mimetype": "text/x-python",
   "name": "python",
   "nbconvert_exporter": "python",
   "pygments_lexer": "ipython3",
   "version": "3.12.4"
  }
 },
 "nbformat": 4,
 "nbformat_minor": 4
}
